{
 "cells": [
  {
   "cell_type": "code",
   "execution_count": null,
   "metadata": {},
   "outputs": [],
   "source": [
    "import pandas as pd\n",
    "from glob import glob\n",
    "import logging\n",
    "import sys\n",
    "import warnings\n",
    "from logging import INFO\n",
    "\n",
    "\n",
    "# setup logger and logging\n",
    "logging.basicConfig(format='[%(levelname)-5s][%(asctime)s][%(module)s:%(lineno)04d] : %(message)s',\n",
    "                    level=INFO,\n",
    "                    stream=sys.stderr)\n",
    "logger: logging.Logger = logging\n"
   ]
  },
  {
   "cell_type": "code",
   "execution_count": null,
   "metadata": {},
   "outputs": [],
   "source": [
    "# this here is our main daddy loader class. we can use him as a template for all of our other files we may or may not need to import. \n",
    "class DataLoader():\n",
    "    def __init__(self, filepath, index = None, mulit_file_path = False):\n",
    "        # saves, to a variable, our reading of a csv along a later stated filepath to a pandas dataframe\n",
    "        fe = pd. read_csv(filepath, header = 0)\n",
    "        # sets our index if specified\n",
    "        if index is None:\n",
    "            df = pd.set_index(index)\n",
    "        self.df = df"
   ]
  },
  {
   "cell_type": "code",
   "execution_count": null,
   "metadata": {},
   "outputs": [],
   "source": [
    "# util to bind and show the info of our dataframe\n",
    "def info(self):\n",
    "    return self.df.info"
   ]
  },
  {
   "cell_type": "code",
   "execution_count": null,
   "metadata": {},
   "outputs": [],
   "source": [
    "# if our data doesnt already have one, this is a function to create an index from a later specified column\n",
    "\"\"\"create the index\"\"\"\n",
    "def add_index(self, col_list, index_name = \"index\"):\n",
    "    df = self.df\n",
    "    # summon our logger buddy so he can let us know when we make an index and what we name it\n",
    "    logger.info(f\"\\tAdding index {index_name}\")\n",
    "    df[index_name] = df[col_list]\n",
    "    df.set_index(index_name, inplace = True)"
   ]
  }
 ],
 "metadata": {
  "interpreter": {
   "hash": "7e25c0b125afc8ff983a1c5524176becc133df95dfd98566413676ca4ee35163"
  },
  "kernelspec": {
   "display_name": "Python 3.8.10 ('venv': venv)",
   "language": "python",
   "name": "python3"
  },
  "language_info": {
   "name": "python",
   "version": "3.8.10"
  },
  "orig_nbformat": 4
 },
 "nbformat": 4,
 "nbformat_minor": 2
}
