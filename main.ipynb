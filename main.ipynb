{
 "cells": [
  {
   "cell_type": "code",
   "execution_count": null,
   "metadata": {},
   "outputs": [],
   "source": [
    "import pandas as pd\n",
    "from glob import glob\n",
    "import logging\n",
    "import sys\n",
    "import warnings\n",
    "from logging import INFO\n",
    "\n",
    "\n",
    "# setup logger and logging\n",
    "logging.basicConfig(format='[%(levelname)-5s][%(asctime)s][%(module)s:%(lineno)04d] : %(message)s',\n",
    "                    level=INFO,\n",
    "                    stream=sys.stderr)\n",
    "logger: logging.Logger = logging\n"
   ]
  },
  {
   "cell_type": "code",
   "execution_count": 2,
   "metadata": {},
   "outputs": [
    {
     "ename": "NameError",
     "evalue": "name 'df' is not defined",
     "output_type": "error",
     "traceback": [
      "\u001b[0;31m---------------------------------------------------------------------------\u001b[0m",
      "\u001b[0;31mNameError\u001b[0m                                 Traceback (most recent call last)",
      "\u001b[1;32m/home/fossa/deb/data-engineering-bootcamp/tests/bigquery_test/main.ipynb Cell 2'\u001b[0m in \u001b[0;36m<cell line: 10>\u001b[0;34m()\u001b[0m\n\u001b[1;32m      <a href='vscode-notebook-cell:/home/fossa/deb/data-engineering-bootcamp/tests/bigquery_test/main.ipynb#ch0000001?line=7'>8</a>\u001b[0m             df \u001b[39m=\u001b[39m pd\u001b[39m.\u001b[39mset_index(index)\n\u001b[1;32m      <a href='vscode-notebook-cell:/home/fossa/deb/data-engineering-bootcamp/tests/bigquery_test/main.ipynb#ch0000001?line=8'>9</a>\u001b[0m         \u001b[39mself\u001b[39m\u001b[39m.\u001b[39mdf \u001b[39m=\u001b[39m df\n\u001b[0;32m---> <a href='vscode-notebook-cell:/home/fossa/deb/data-engineering-bootcamp/tests/bigquery_test/main.ipynb#ch0000001?line=9'>10</a>\u001b[0m df\u001b[39m.\u001b[39mhead()\n",
      "\u001b[0;31mNameError\u001b[0m: name 'df' is not defined"
     ]
    }
   ],
   "source": [
    "# this here is our main daddy loader class. we can use him as a template for all of our other files we may or may not need to import. \n",
    "class DataLoader():\n",
    "    def __init__(self, filepath, index = None, mulit_file_path = False):\n",
    "        # saves, to a variable, our reading of a csv along a later stated filepath to a pandas dataframe\n",
    "        fe = pd. read_csv(filepath, header = 0)\n",
    "        # sets our index if specified\n",
    "        if index is None:\n",
    "            df = pd.set_index(index)\n",
    "        self.df = df\n",
    "df.head()"
   ]
  },
  {
   "cell_type": "code",
   "execution_count": null,
   "metadata": {},
   "outputs": [],
   "source": [
    "# util to bind and show the info of our dataframe\n",
    "def info(self):\n",
    "    return self.df.info"
   ]
  },
  {
   "cell_type": "code",
   "execution_count": null,
   "metadata": {},
   "outputs": [],
   "source": [
    "# if our data doesnt already have one, this is a function to create an index from a later specified column\n",
    "\"\"\"create the index\"\"\"\n",
    "def add_index(self, col_list, index_name = \"index\"):\n",
    "    df = self.df\n",
    "    \"\"\"create the index by concatting two columns\"\"\"\n",
    "    df[index_name] = df[col_list].apply(lambda row: \"-\".join(row.values.astype(str)), axis = 1)\n",
    "    df.set_index(index_name, inplace = True)\n",
    "    self.df = df"
   ]
  },
  {
   "cell_type": "code",
   "execution_count": null,
   "metadata": {},
   "outputs": [],
   "source": [
    "# SUBCLASSES!\n",
    "#     these are cool cause they give us the ability to use this class to load other data with our \"template\" aka big class, but all these can change the default setting to fit their needs\n",
    "#     use the __init__ method to do this\n"
   ]
  },
  {
   "cell_type": "code",
   "execution_count": null,
   "metadata": {},
   "outputs": [],
   "source": [
    "\"\"\"check to see if we have any null values and change the to NaN\"\"\"\n",
    "def fill_na(df):\n",
    "    df.isna().any().sum()\n"
   ]
  },
  {
   "cell_type": "code",
   "execution_count": 1,
   "metadata": {},
   "outputs": [],
   "source": [
    "\n",
    "import pandas as pd\n",
    "from pandas import DataFrame\n",
    "\n",
    "# import pandas and set pandas read_cvs to a variable\n",
    "\n",
    "ufo_data = pd.read_csv('./data/nuforc_reports.csv', index_col='summary')\n",
    "df = pd.DataFrame(ufo_data)\n",
    "# df = ufo_data\n",
    "# df.head()\n",
    "\n",
    "# # create empty variables so we know what internal variablesneed to define later\n",
    "# col_list = []\n",
    "# col_check = []\n",
    "\n",
    "\n",
    "\"\"\"start functions to clean data\"\"\"\n",
    "\n",
    "\"\"\"if our data doesnt already have one, this is a function to create an index from a later specified column\"\"\"\n",
    "\n",
    "\n",
    "def set_index(self, index=None):\n",
    "    df = self.df\n",
    "    \"\"\"create the index by concatting two columns\"\"\"\n",
    "    # df[index_name] = df[col_list]\n",
    "    # .apply(\n",
    "    # lambda row: \"-\".join(row.values.astype(str)), axis=1)\n",
    "    df = df.set_index(index, inplace=True)\n",
    "    self.df = df\n",
    "\n",
    "\n",
    "def fill_na(df):\n",
    "    \"\"\"check to see if there are any null values and changes them to NaN\"\"\"\n",
    "    df.fillna(value=\"null\", axis=1, inplace=True)\n",
    "\n",
    "\n",
    "# def drop_dupes(df, col_check=None):\n",
    "#     \"\"\"drop duplicates among the specified col to ensure the data isnt repeated\"\"\"\n",
    "#     df.drop_duplicates(subset=[col_check], inplace=True)\n",
    "\n",
    "\n",
    "\"\"\"write the pandas df back to a csv\"\"\"\n",
    "\n",
    "\n",
    "def write_csv(df):\n",
    "    clean_UFO_data = './data/cleaned_UFO_data.csv'\n",
    "    df.to_csv(clean_UFO_data)\n",
    "\n",
    "\n",
    "\"\"\"run function to enact our functions on our ufo dataframe\"\"\"\n",
    "# df = ufo_data\n",
    "# col_check = df.summary\n",
    "\n",
    "# df['date_time'] = pd.to_datetime(df['date_time'], format=\"%Y-%m-%d\")\n",
    "# col_list = [df.date_time]\n",
    "\n",
    "\n",
    "def run(df):\n",
    "    # set_index(df)\n",
    "    fill_na(df)\n",
    "    # drop_dupes(df)\n",
    "    write_csv(df)\n",
    "\n",
    "\n",
    "run(ufo_data)\n",
    "\n",
    "# print(df.head())\n"
   ]
  }
 ],
 "metadata": {
  "interpreter": {
   "hash": "7e25c0b125afc8ff983a1c5524176becc133df95dfd98566413676ca4ee35163"
  },
  "kernelspec": {
   "display_name": "Python 3.8.10 ('venv': venv)",
   "language": "python",
   "name": "python3"
  },
  "language_info": {
   "codemirror_mode": {
    "name": "ipython",
    "version": 3
   },
   "file_extension": ".py",
   "mimetype": "text/x-python",
   "name": "python",
   "nbconvert_exporter": "python",
   "pygments_lexer": "ipython3",
   "version": "3.7.13"
  },
  "orig_nbformat": 4
 },
 "nbformat": 4,
 "nbformat_minor": 2
}
