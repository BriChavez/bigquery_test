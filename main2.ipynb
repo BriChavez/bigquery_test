{
 "cells": [
  {
   "cell_type": "code",
   "execution_count": null,
   "metadata": {},
   "outputs": [],
   "source": [
    "import pandas as pd\n",
    "\n",
    "# import pandas and set pandas read_cvs to a variable\n",
    "ufo_data =pd.read_csv('./data/nuforc_reports.csv')\n",
    "# ufo_data.head()\n",
    "df = ufo_data\n",
    "df.shape"
   ]
  },
  {
   "cell_type": "code",
   "execution_count": null,
   "metadata": {},
   "outputs": [],
   "source": [
    "\"\"\"start functions to clean data\"\"\"\n",
    "def fill_na(df):\n",
    "    \"\"\"check to see if there are any null values and changes them to NaN\"\"\"\n",
    "    df.fillna(value = \"null\", axis = 1, inplace = True)\n",
    "\n",
    "    \n",
    "df.head()"
   ]
  },
  {
   "cell_type": "code",
   "execution_count": null,
   "metadata": {},
   "outputs": [],
   "source": [
    "def drop_dupes(dataframe, col_check = None):\n",
    "    \"\"\"drop duplicates among the summaries to ensure the data isnt repeated\"\"\"\n",
    "    df.drop_duplicates(subset=[col_check], inplace = True)\n",
    "    \n",
    "\n",
    "\n"
   ]
  },
  {
   "cell_type": "code",
   "execution_count": null,
   "metadata": {},
   "outputs": [],
   "source": [
    "# if our data doesnt already have one, this is a function to create an index from a later specified column\n",
    "\"\"\"create the index\"\"\"\n",
    "\n",
    "def add_index(self, col_list, index_name=\"index\"):\n",
    "    df = self.df\n",
    "    \"\"\"create the index by concatting two columns\"\"\"\n",
    "    df[index_name] = df[col_list].apply(lambda row: \"-\".join(row.values.astype(str)), axis=1)\n",
    "    df = df.set_index(index_name, inplace=True)\n",
    "    self.df = df\n",
    "\n",
    "\n",
    "\n"
   ]
  },
  {
   "cell_type": "code",
   "execution_count": null,
   "metadata": {},
   "outputs": [],
   "source": [
    "\"\"\"write the pandas df back to a csv\"\"\"\n",
    "\n",
    "\n",
    "def write_csv(df):\n",
    "    clean_UFO_data = (f'./data/cleaned_UFO_data.csv')\n",
    "    df.to_csv(clean_UFO_data)\n"
   ]
  },
  {
   "cell_type": "code",
   "execution_count": null,
   "metadata": {},
   "outputs": [],
   "source": [
    "df = DataFrame({'var_1': ['a', 'b', 'c'], 'var_2': [\n",
    "               1, 2, 3], 'var_3': ['apple', 'banana', 'pear']})\n",
    "cols = ['var_1', 'var_2']    # Set columns to combine\n",
    "df['combined'] = df[cols].apply(\n",
    "    lambda row: ', '.join(row.values.astype(str)), axis=1)\n",
    "\n",
    "# Define which column is index\n",
    "df_i = df.set_index('combined')\n",
    "\n",
    "# Set the index to None\n",
    "df_i.index.names = [None]\n",
    "col_list = [df.city, df.date_time]\n"
   ]
  },
  {
   "cell_type": "code",
   "execution_count": null,
   "metadata": {},
   "outputs": [],
   "source": [
    "df = pd.DataFrame(\n",
    "    {'name': [\"apple\", \"banana\", \"cherry\"], 'quant': [40, 50, 60]})\n",
    "df.columns = ['fruit', 'quantity']\n",
    "print(df)\n"
   ]
  },
  {
   "cell_type": "code",
   "execution_count": null,
   "metadata": {},
   "outputs": [],
   "source": [
    "from sqlalchemy import create_engine, text, insert, inspect\n",
    "from sqlalchemy import MetaData, Table, Column, Integer, String, Numeric, DateTime\n"
   ]
  },
  {
   "cell_type": "code",
   "execution_count": null,
   "metadata": {},
   "outputs": [],
   "source": [
    "def initdb(self, drop_and_replace=False) -> None:\n",
    "    \"\"\"Function to initialize the database with all the tables\"\"\"\n",
    "    \n",
    "     engine = self.engine\n",
    "      metadata = self.metadata\n",
    "       if drop_and_replace:\n",
    "            logger.info(\"\\tDropping existing tables\")\n",
    "            metadata.drop_all()\n",
    "        # Define all our tables\n",
    "        if not inspect(engine).has_table(\"airports\"):\n",
    "            logger.info(\"Creating airports table\")\n",
    "            airport_table = Table(\"airports\",\n",
    "                                  metadata,\n",
    "                                  Column(\"iata\", String(256),\n",
    "                                         primary_key=True),\n",
    "                                  Column(\"airport\", String(256)),\n",
    "                                  Column(\"city\", String(256)),\n",
    "                                  Column(\"state\", String(256)),\n",
    "                   df = DataFrame({'var_1': ['a', 'b', 'c'], 'var_2': [\n",
    "               1, 2, 3], 'var_3': ['apple', 'banana', 'pear']})\n",
    "cols = ['var_1', 'var_2']    # Set columns to combine\n",
    "df['combined'] = df[cols].apply(\n",
    "    lambda row: ', '.join(row.values.astype(str)), axis=1)\n",
    "\n",
    "# Define which column is index\n",
    "df_i = df.set_index('combined')\n",
    "\n",
    "# Set the index to None\n",
    "df_i.index.names = [None]               Column(\"country\", String(256)),\n",
    "                Column(\"lat\", Numeric),\n",
    "                Column(\"lon\", Numeric),\n",
    "                extend_existing=True,\n",
    "            )\n",
    "        else:\n",
    "            logger.info(\"\\tairports table present\")\n"
   ]
  },
  {
   "cell_type": "code",
   "execution_count": 47,
   "metadata": {},
   "outputs": [
    {
     "name": "stdout",
     "output_type": "stream",
     "text": [
      "<class 'pandas.core.frame.DataFrame'>\n",
      "Index: 88125 entries, 2019-12-12T18:43:00 to 2019-10-02T22:00:00\n",
      "Data columns (total 11 columns):\n",
      " #   Column          Non-Null Count  Dtype  \n",
      "---  ------          --------------  -----  \n",
      " 0   summary         88095 non-null  object \n",
      " 1   city            87891 non-null  object \n",
      " 2   state           82890 non-null  object \n",
      " 3   shape           85627 non-null  object \n",
      " 4   duration        84954 non-null  object \n",
      " 5   stats           88088 non-null  object \n",
      " 6   report_link     88125 non-null  object \n",
      " 7   text            88070 non-null  object \n",
      " 8   posted          86938 non-null  object \n",
      " 9   city_latitude   72013 non-null  float64\n",
      " 10  city_longitude  72013 non-null  float64\n",
      "dtypes: float64(2), object(9)\n",
      "memory usage: 8.1+ MB\n"
     ]
    }
   ],
   "source": [
    "import pandas as pd\n",
    "\n",
    "# import pandas and set pandas read_cvs to a variable\n",
    "ufo_filepath = './data/nuforc_reports.csv'\n",
    "ufo_data = pd.read_csv(ufo_filepath, index_col = 'date_time')\n",
    "# df.head()\n",
    "ufo_data.info(5)\n"
   ]
  },
  {
   "cell_type": "code",
   "execution_count": null,
   "metadata": {},
   "outputs": [],
   "source": [
    "def csv_to_dataframe(filepath: str, index: str) -> None:\n",
    "    \"\"\"\n",
    "    Load a csv file into a pandas dataframe\n",
    "    returns inserted csv into 'df' variable\n",
    "    *args:\n",
    "        filepath: string of filepath to csv file\n",
    "        index: string of column to index dataframe by\n",
    "    \"\"\"\n",
    "    df = pd.read_csv(filepath, header=0, index_col=[index])\n",
    "    return df\n",
    "\n",
    "\n",
    "def index_setter(dataframe, index):\n",
    "    \"\"\"\n",
    "    Sets the index of dataframe to a desired existing column\n",
    "    args*:\n",
    "        dataframe: dataframe to have index changed\n",
    "        index: name of column that index will be set to\n",
    "    \"\"\"\n",
    "    dataframe.set_index(index, inplace=True)\n"
   ]
  },
  {
   "cell_type": "code",
   "execution_count": 43,
   "metadata": {},
   "outputs": [
    {
     "ename": "TypeError",
     "evalue": "'Series' objects are mutable, thus they cannot be hashed",
     "output_type": "error",
     "traceback": [
      "\u001b[0;31m---------------------------------------------------------------------------\u001b[0m",
      "\u001b[0;31mTypeError\u001b[0m                                 Traceback (most recent call last)",
      "File \u001b[0;32mpandas/_libs/hashtable_class_helper.pxi:4588\u001b[0m, in \u001b[0;36mpandas._libs.hashtable.PyObjectHashTable.map_locations\u001b[0;34m()\u001b[0m\n",
      "File \u001b[0;32m~/deb/data-engineering-bootcamp/tests/bigquery_test/venv/lib/python3.8/site-packages/pandas/core/generic.py:1785\u001b[0m, in \u001b[0;36mNDFrame.__hash__\u001b[0;34m(self)\u001b[0m\n\u001b[1;32m   <a href='file:///home/fossa/deb/data-engineering-bootcamp/tests/bigquery_test/venv/lib/python3.8/site-packages/pandas/core/generic.py?line=1783'>1784</a>\u001b[0m \u001b[39mdef\u001b[39;00m \u001b[39m__hash__\u001b[39m(\u001b[39mself\u001b[39m) \u001b[39m-\u001b[39m\u001b[39m>\u001b[39m \u001b[39mint\u001b[39m:\n\u001b[0;32m-> <a href='file:///home/fossa/deb/data-engineering-bootcamp/tests/bigquery_test/venv/lib/python3.8/site-packages/pandas/core/generic.py?line=1784'>1785</a>\u001b[0m     \u001b[39mraise\u001b[39;00m \u001b[39mTypeError\u001b[39;00m(\n\u001b[1;32m   <a href='file:///home/fossa/deb/data-engineering-bootcamp/tests/bigquery_test/venv/lib/python3.8/site-packages/pandas/core/generic.py?line=1785'>1786</a>\u001b[0m         \u001b[39mf\u001b[39m\u001b[39m\"\u001b[39m\u001b[39m{\u001b[39;00m\u001b[39mrepr\u001b[39m(\u001b[39mtype\u001b[39m(\u001b[39mself\u001b[39m)\u001b[39m.\u001b[39m\u001b[39m__name__\u001b[39m)\u001b[39m}\u001b[39;00m\u001b[39m objects are mutable, \u001b[39m\u001b[39m\"\u001b[39m\n\u001b[1;32m   <a href='file:///home/fossa/deb/data-engineering-bootcamp/tests/bigquery_test/venv/lib/python3.8/site-packages/pandas/core/generic.py?line=1786'>1787</a>\u001b[0m         \u001b[39mf\u001b[39m\u001b[39m\"\u001b[39m\u001b[39mthus they cannot be hashed\u001b[39m\u001b[39m\"\u001b[39m\n\u001b[1;32m   <a href='file:///home/fossa/deb/data-engineering-bootcamp/tests/bigquery_test/venv/lib/python3.8/site-packages/pandas/core/generic.py?line=1787'>1788</a>\u001b[0m     )\n",
      "\u001b[0;31mTypeError\u001b[0m: 'Series' objects are mutable, thus they cannot be hashed"
     ]
    },
    {
     "name": "stderr",
     "output_type": "stream",
     "text": [
      "Exception ignored in: 'pandas._libs.index.IndexEngine._call_map_locations'\n",
      "Traceback (most recent call last):\n",
      "  File \"pandas/_libs/hashtable_class_helper.pxi\", line 4588, in pandas._libs.hashtable.PyObjectHashTable.map_locations\n",
      "  File \"/home/fossa/deb/data-engineering-bootcamp/tests/bigquery_test/venv/lib/python3.8/site-packages/pandas/core/generic.py\", line 1785, in __hash__\n",
      "    raise TypeError(\n",
      "TypeError: 'Series' objects are mutable, thus they cannot be hashed\n"
     ]
    },
    {
     "ename": "TypeError",
     "evalue": "'Series' objects are mutable, thus they cannot be hashed",
     "output_type": "error",
     "traceback": [
      "\u001b[0;31m---------------------------------------------------------------------------\u001b[0m",
      "\u001b[0;31mTypeError\u001b[0m                                 Traceback (most recent call last)",
      "\u001b[1;32m/home/fossa/deb/data-engineering-bootcamp/tests/bigquery_test/main2.ipynb Cell 10'\u001b[0m in \u001b[0;36m<cell line: 60>\u001b[0;34m()\u001b[0m\n\u001b[1;32m     <a href='vscode-notebook-cell:/home/fossa/deb/data-engineering-bootcamp/tests/bigquery_test/main2.ipynb#ch0000009?line=57'>58</a>\u001b[0m     add_index(df, col_list)\n\u001b[1;32m     <a href='vscode-notebook-cell:/home/fossa/deb/data-engineering-bootcamp/tests/bigquery_test/main2.ipynb#ch0000009?line=58'>59</a>\u001b[0m     write_csv(df)\n\u001b[0;32m---> <a href='vscode-notebook-cell:/home/fossa/deb/data-engineering-bootcamp/tests/bigquery_test/main2.ipynb#ch0000009?line=59'>60</a>\u001b[0m run(ufo_data)\n",
      "\u001b[1;32m/home/fossa/deb/data-engineering-bootcamp/tests/bigquery_test/main2.ipynb Cell 10'\u001b[0m in \u001b[0;36mrun\u001b[0;34m(df)\u001b[0m\n\u001b[1;32m     <a href='vscode-notebook-cell:/home/fossa/deb/data-engineering-bootcamp/tests/bigquery_test/main2.ipynb#ch0000009?line=54'>55</a>\u001b[0m \u001b[39mdef\u001b[39;00m \u001b[39mrun\u001b[39m(df):\n\u001b[1;32m     <a href='vscode-notebook-cell:/home/fossa/deb/data-engineering-bootcamp/tests/bigquery_test/main2.ipynb#ch0000009?line=55'>56</a>\u001b[0m     fill_na(df)\n\u001b[0;32m---> <a href='vscode-notebook-cell:/home/fossa/deb/data-engineering-bootcamp/tests/bigquery_test/main2.ipynb#ch0000009?line=56'>57</a>\u001b[0m     drop_dupes(df, col_check)\n\u001b[1;32m     <a href='vscode-notebook-cell:/home/fossa/deb/data-engineering-bootcamp/tests/bigquery_test/main2.ipynb#ch0000009?line=57'>58</a>\u001b[0m     add_index(df, col_list)\n\u001b[1;32m     <a href='vscode-notebook-cell:/home/fossa/deb/data-engineering-bootcamp/tests/bigquery_test/main2.ipynb#ch0000009?line=58'>59</a>\u001b[0m     write_csv(df)\n",
      "\u001b[1;32m/home/fossa/deb/data-engineering-bootcamp/tests/bigquery_test/main2.ipynb Cell 10'\u001b[0m in \u001b[0;36mdrop_dupes\u001b[0;34m(df, col_check)\u001b[0m\n\u001b[1;32m     <a href='vscode-notebook-cell:/home/fossa/deb/data-engineering-bootcamp/tests/bigquery_test/main2.ipynb#ch0000009?line=22'>23</a>\u001b[0m \u001b[39mdef\u001b[39;00m \u001b[39mdrop_dupes\u001b[39m(df, col_check\u001b[39m=\u001b[39m\u001b[39mNone\u001b[39;00m):\n\u001b[0;32m---> <a href='vscode-notebook-cell:/home/fossa/deb/data-engineering-bootcamp/tests/bigquery_test/main2.ipynb#ch0000009?line=23'>24</a>\u001b[0m     df\u001b[39m.\u001b[39;49mdrop_duplicates(subset\u001b[39m=\u001b[39;49m[col_check], inplace\u001b[39m=\u001b[39;49m\u001b[39mTrue\u001b[39;49;00m)\n",
      "File \u001b[0;32m~/deb/data-engineering-bootcamp/tests/bigquery_test/venv/lib/python3.8/site-packages/pandas/core/frame.py:5271\u001b[0m, in \u001b[0;36mDataFrame.drop_duplicates\u001b[0;34m(self, subset, keep, inplace, ignore_index)\u001b[0m\n\u001b[1;32m   <a href='file:///home/fossa/deb/data-engineering-bootcamp/tests/bigquery_test/venv/lib/python3.8/site-packages/pandas/core/frame.py?line=5268'>5269</a>\u001b[0m inplace \u001b[39m=\u001b[39m validate_bool_kwarg(inplace, \u001b[39m\"\u001b[39m\u001b[39minplace\u001b[39m\u001b[39m\"\u001b[39m)\n\u001b[1;32m   <a href='file:///home/fossa/deb/data-engineering-bootcamp/tests/bigquery_test/venv/lib/python3.8/site-packages/pandas/core/frame.py?line=5269'>5270</a>\u001b[0m ignore_index \u001b[39m=\u001b[39m validate_bool_kwarg(ignore_index, \u001b[39m\"\u001b[39m\u001b[39mignore_index\u001b[39m\u001b[39m\"\u001b[39m)\n\u001b[0;32m-> <a href='file:///home/fossa/deb/data-engineering-bootcamp/tests/bigquery_test/venv/lib/python3.8/site-packages/pandas/core/frame.py?line=5270'>5271</a>\u001b[0m duplicated \u001b[39m=\u001b[39m \u001b[39mself\u001b[39;49m\u001b[39m.\u001b[39;49mduplicated(subset, keep\u001b[39m=\u001b[39;49mkeep)\n\u001b[1;32m   <a href='file:///home/fossa/deb/data-engineering-bootcamp/tests/bigquery_test/venv/lib/python3.8/site-packages/pandas/core/frame.py?line=5272'>5273</a>\u001b[0m result \u001b[39m=\u001b[39m \u001b[39mself\u001b[39m[\u001b[39m-\u001b[39mduplicated]\n\u001b[1;32m   <a href='file:///home/fossa/deb/data-engineering-bootcamp/tests/bigquery_test/venv/lib/python3.8/site-packages/pandas/core/frame.py?line=5273'>5274</a>\u001b[0m \u001b[39mif\u001b[39;00m ignore_index:\n",
      "File \u001b[0;32m~/deb/data-engineering-bootcamp/tests/bigquery_test/venv/lib/python3.8/site-packages/pandas/core/frame.py:5403\u001b[0m, in \u001b[0;36mDataFrame.duplicated\u001b[0;34m(self, subset, keep)\u001b[0m\n\u001b[1;32m   <a href='file:///home/fossa/deb/data-engineering-bootcamp/tests/bigquery_test/venv/lib/python3.8/site-packages/pandas/core/frame.py?line=5397'>5398</a>\u001b[0m subset \u001b[39m=\u001b[39m cast(Iterable, subset)\n\u001b[1;32m   <a href='file:///home/fossa/deb/data-engineering-bootcamp/tests/bigquery_test/venv/lib/python3.8/site-packages/pandas/core/frame.py?line=5399'>5400</a>\u001b[0m \u001b[39m# Verify all columns in subset exist in the queried dataframe\u001b[39;00m\n\u001b[1;32m   <a href='file:///home/fossa/deb/data-engineering-bootcamp/tests/bigquery_test/venv/lib/python3.8/site-packages/pandas/core/frame.py?line=5400'>5401</a>\u001b[0m \u001b[39m# Otherwise, raise a KeyError, same as if you try to __getitem__ with a\u001b[39;00m\n\u001b[1;32m   <a href='file:///home/fossa/deb/data-engineering-bootcamp/tests/bigquery_test/venv/lib/python3.8/site-packages/pandas/core/frame.py?line=5401'>5402</a>\u001b[0m \u001b[39m# key that doesn't exist.\u001b[39;00m\n\u001b[0;32m-> <a href='file:///home/fossa/deb/data-engineering-bootcamp/tests/bigquery_test/venv/lib/python3.8/site-packages/pandas/core/frame.py?line=5402'>5403</a>\u001b[0m diff \u001b[39m=\u001b[39m Index(subset)\u001b[39m.\u001b[39;49mdifference(\u001b[39mself\u001b[39;49m\u001b[39m.\u001b[39;49mcolumns)\n\u001b[1;32m   <a href='file:///home/fossa/deb/data-engineering-bootcamp/tests/bigquery_test/venv/lib/python3.8/site-packages/pandas/core/frame.py?line=5403'>5404</a>\u001b[0m \u001b[39mif\u001b[39;00m \u001b[39mnot\u001b[39;00m diff\u001b[39m.\u001b[39mempty:\n\u001b[1;32m   <a href='file:///home/fossa/deb/data-engineering-bootcamp/tests/bigquery_test/venv/lib/python3.8/site-packages/pandas/core/frame.py?line=5404'>5405</a>\u001b[0m     \u001b[39mraise\u001b[39;00m \u001b[39mKeyError\u001b[39;00m(diff)\n",
      "File \u001b[0;32m~/deb/data-engineering-bootcamp/tests/bigquery_test/venv/lib/python3.8/site-packages/pandas/core/indexes/base.py:2923\u001b[0m, in \u001b[0;36mIndex.difference\u001b[0;34m(self, other, sort)\u001b[0m\n\u001b[1;32m   <a href='file:///home/fossa/deb/data-engineering-bootcamp/tests/bigquery_test/venv/lib/python3.8/site-packages/pandas/core/indexes/base.py?line=2919'>2920</a>\u001b[0m \u001b[39mif\u001b[39;00m \u001b[39mself\u001b[39m\u001b[39m.\u001b[39mequals(other):\n\u001b[1;32m   <a href='file:///home/fossa/deb/data-engineering-bootcamp/tests/bigquery_test/venv/lib/python3.8/site-packages/pandas/core/indexes/base.py?line=2920'>2921</a>\u001b[0m     \u001b[39mreturn\u001b[39;00m \u001b[39mself\u001b[39m[:\u001b[39m0\u001b[39m]\u001b[39m.\u001b[39mrename(result_name)\n\u001b[0;32m-> <a href='file:///home/fossa/deb/data-engineering-bootcamp/tests/bigquery_test/venv/lib/python3.8/site-packages/pandas/core/indexes/base.py?line=2922'>2923</a>\u001b[0m result \u001b[39m=\u001b[39m \u001b[39mself\u001b[39;49m\u001b[39m.\u001b[39;49m_difference(other, sort\u001b[39m=\u001b[39;49msort)\n\u001b[1;32m   <a href='file:///home/fossa/deb/data-engineering-bootcamp/tests/bigquery_test/venv/lib/python3.8/site-packages/pandas/core/indexes/base.py?line=2923'>2924</a>\u001b[0m \u001b[39mreturn\u001b[39;00m \u001b[39mself\u001b[39m\u001b[39m.\u001b[39m_wrap_setop_result(other, result)\n",
      "File \u001b[0;32m~/deb/data-engineering-bootcamp/tests/bigquery_test/venv/lib/python3.8/site-packages/pandas/core/indexes/base.py:2928\u001b[0m, in \u001b[0;36mIndex._difference\u001b[0;34m(self, other, sort)\u001b[0m\n\u001b[1;32m   <a href='file:///home/fossa/deb/data-engineering-bootcamp/tests/bigquery_test/venv/lib/python3.8/site-packages/pandas/core/indexes/base.py?line=2925'>2926</a>\u001b[0m \u001b[39mdef\u001b[39;00m \u001b[39m_difference\u001b[39m(\u001b[39mself\u001b[39m, other, sort):\n\u001b[0;32m-> <a href='file:///home/fossa/deb/data-engineering-bootcamp/tests/bigquery_test/venv/lib/python3.8/site-packages/pandas/core/indexes/base.py?line=2927'>2928</a>\u001b[0m     this \u001b[39m=\u001b[39m \u001b[39mself\u001b[39;49m\u001b[39m.\u001b[39;49m_get_unique_index()\n\u001b[1;32m   <a href='file:///home/fossa/deb/data-engineering-bootcamp/tests/bigquery_test/venv/lib/python3.8/site-packages/pandas/core/indexes/base.py?line=2929'>2930</a>\u001b[0m     indexer \u001b[39m=\u001b[39m this\u001b[39m.\u001b[39mget_indexer(other)\n\u001b[1;32m   <a href='file:///home/fossa/deb/data-engineering-bootcamp/tests/bigquery_test/venv/lib/python3.8/site-packages/pandas/core/indexes/base.py?line=2930'>2931</a>\u001b[0m     indexer \u001b[39m=\u001b[39m indexer\u001b[39m.\u001b[39mtake((indexer \u001b[39m!=\u001b[39m \u001b[39m-\u001b[39m\u001b[39m1\u001b[39m)\u001b[39m.\u001b[39mnonzero()[\u001b[39m0\u001b[39m])\n",
      "File \u001b[0;32m~/deb/data-engineering-bootcamp/tests/bigquery_test/venv/lib/python3.8/site-packages/pandas/core/indexes/base.py:2517\u001b[0m, in \u001b[0;36mIndex._get_unique_index\u001b[0;34m(self, dropna)\u001b[0m\n\u001b[1;32m   <a href='file:///home/fossa/deb/data-engineering-bootcamp/tests/bigquery_test/venv/lib/python3.8/site-packages/pandas/core/indexes/base.py?line=2513'>2514</a>\u001b[0m     \u001b[39mreturn\u001b[39;00m \u001b[39mself\u001b[39m\n\u001b[1;32m   <a href='file:///home/fossa/deb/data-engineering-bootcamp/tests/bigquery_test/venv/lib/python3.8/site-packages/pandas/core/indexes/base.py?line=2515'>2516</a>\u001b[0m \u001b[39mif\u001b[39;00m \u001b[39mnot\u001b[39;00m \u001b[39mself\u001b[39m\u001b[39m.\u001b[39mis_unique:\n\u001b[0;32m-> <a href='file:///home/fossa/deb/data-engineering-bootcamp/tests/bigquery_test/venv/lib/python3.8/site-packages/pandas/core/indexes/base.py?line=2516'>2517</a>\u001b[0m     values \u001b[39m=\u001b[39m \u001b[39mself\u001b[39;49m\u001b[39m.\u001b[39;49munique()\n\u001b[1;32m   <a href='file:///home/fossa/deb/data-engineering-bootcamp/tests/bigquery_test/venv/lib/python3.8/site-packages/pandas/core/indexes/base.py?line=2517'>2518</a>\u001b[0m     \u001b[39mif\u001b[39;00m \u001b[39mnot\u001b[39;00m \u001b[39misinstance\u001b[39m(\u001b[39mself\u001b[39m, ABCMultiIndex):\n\u001b[1;32m   <a href='file:///home/fossa/deb/data-engineering-bootcamp/tests/bigquery_test/venv/lib/python3.8/site-packages/pandas/core/indexes/base.py?line=2518'>2519</a>\u001b[0m         \u001b[39m# extract an array to pass to _shallow_copy\u001b[39;00m\n\u001b[1;32m   <a href='file:///home/fossa/deb/data-engineering-bootcamp/tests/bigquery_test/venv/lib/python3.8/site-packages/pandas/core/indexes/base.py?line=2519'>2520</a>\u001b[0m         values \u001b[39m=\u001b[39m values\u001b[39m.\u001b[39m_data\n",
      "File \u001b[0;32m~/deb/data-engineering-bootcamp/tests/bigquery_test/venv/lib/python3.8/site-packages/pandas/core/indexes/base.py:2386\u001b[0m, in \u001b[0;36mIndex.unique\u001b[0;34m(self, level)\u001b[0m\n\u001b[1;32m   <a href='file:///home/fossa/deb/data-engineering-bootcamp/tests/bigquery_test/venv/lib/python3.8/site-packages/pandas/core/indexes/base.py?line=2382'>2383</a>\u001b[0m \u001b[39mif\u001b[39;00m \u001b[39mself\u001b[39m\u001b[39m.\u001b[39mis_unique:\n\u001b[1;32m   <a href='file:///home/fossa/deb/data-engineering-bootcamp/tests/bigquery_test/venv/lib/python3.8/site-packages/pandas/core/indexes/base.py?line=2383'>2384</a>\u001b[0m     \u001b[39mreturn\u001b[39;00m \u001b[39mself\u001b[39m\u001b[39m.\u001b[39m_shallow_copy()\n\u001b[0;32m-> <a href='file:///home/fossa/deb/data-engineering-bootcamp/tests/bigquery_test/venv/lib/python3.8/site-packages/pandas/core/indexes/base.py?line=2385'>2386</a>\u001b[0m result \u001b[39m=\u001b[39m \u001b[39msuper\u001b[39;49m()\u001b[39m.\u001b[39;49munique()\n\u001b[1;32m   <a href='file:///home/fossa/deb/data-engineering-bootcamp/tests/bigquery_test/venv/lib/python3.8/site-packages/pandas/core/indexes/base.py?line=2386'>2387</a>\u001b[0m \u001b[39mreturn\u001b[39;00m \u001b[39mself\u001b[39m\u001b[39m.\u001b[39m_shallow_copy(result)\n",
      "File \u001b[0;32m~/deb/data-engineering-bootcamp/tests/bigquery_test/venv/lib/python3.8/site-packages/pandas/core/base.py:1047\u001b[0m, in \u001b[0;36mIndexOpsMixin.unique\u001b[0;34m(self)\u001b[0m\n\u001b[1;32m   <a href='file:///home/fossa/deb/data-engineering-bootcamp/tests/bigquery_test/venv/lib/python3.8/site-packages/pandas/core/base.py?line=1044'>1045</a>\u001b[0m             result \u001b[39m=\u001b[39m np\u001b[39m.\u001b[39masarray(result)\n\u001b[1;32m   <a href='file:///home/fossa/deb/data-engineering-bootcamp/tests/bigquery_test/venv/lib/python3.8/site-packages/pandas/core/base.py?line=1045'>1046</a>\u001b[0m \u001b[39melse\u001b[39;00m:\n\u001b[0;32m-> <a href='file:///home/fossa/deb/data-engineering-bootcamp/tests/bigquery_test/venv/lib/python3.8/site-packages/pandas/core/base.py?line=1046'>1047</a>\u001b[0m     result \u001b[39m=\u001b[39m unique1d(values)\n\u001b[1;32m   <a href='file:///home/fossa/deb/data-engineering-bootcamp/tests/bigquery_test/venv/lib/python3.8/site-packages/pandas/core/base.py?line=1048'>1049</a>\u001b[0m \u001b[39mreturn\u001b[39;00m result\n",
      "File \u001b[0;32m~/deb/data-engineering-bootcamp/tests/bigquery_test/venv/lib/python3.8/site-packages/pandas/core/algorithms.py:407\u001b[0m, in \u001b[0;36munique\u001b[0;34m(values)\u001b[0m\n\u001b[1;32m    <a href='file:///home/fossa/deb/data-engineering-bootcamp/tests/bigquery_test/venv/lib/python3.8/site-packages/pandas/core/algorithms.py?line=403'>404</a>\u001b[0m htable, values \u001b[39m=\u001b[39m _get_hashtable_algo(values)\n\u001b[1;32m    <a href='file:///home/fossa/deb/data-engineering-bootcamp/tests/bigquery_test/venv/lib/python3.8/site-packages/pandas/core/algorithms.py?line=405'>406</a>\u001b[0m table \u001b[39m=\u001b[39m htable(\u001b[39mlen\u001b[39m(values))\n\u001b[0;32m--> <a href='file:///home/fossa/deb/data-engineering-bootcamp/tests/bigquery_test/venv/lib/python3.8/site-packages/pandas/core/algorithms.py?line=406'>407</a>\u001b[0m uniques \u001b[39m=\u001b[39m table\u001b[39m.\u001b[39;49munique(values)\n\u001b[1;32m    <a href='file:///home/fossa/deb/data-engineering-bootcamp/tests/bigquery_test/venv/lib/python3.8/site-packages/pandas/core/algorithms.py?line=407'>408</a>\u001b[0m uniques \u001b[39m=\u001b[39m _reconstruct_data(uniques, original\u001b[39m.\u001b[39mdtype, original)\n\u001b[1;32m    <a href='file:///home/fossa/deb/data-engineering-bootcamp/tests/bigquery_test/venv/lib/python3.8/site-packages/pandas/core/algorithms.py?line=408'>409</a>\u001b[0m \u001b[39mreturn\u001b[39;00m uniques\n",
      "File \u001b[0;32mpandas/_libs/hashtable_class_helper.pxi:4719\u001b[0m, in \u001b[0;36mpandas._libs.hashtable.PyObjectHashTable.unique\u001b[0;34m()\u001b[0m\n",
      "File \u001b[0;32mpandas/_libs/hashtable_class_helper.pxi:4666\u001b[0m, in \u001b[0;36mpandas._libs.hashtable.PyObjectHashTable._unique\u001b[0;34m()\u001b[0m\n",
      "File \u001b[0;32m~/deb/data-engineering-bootcamp/tests/bigquery_test/venv/lib/python3.8/site-packages/pandas/core/generic.py:1785\u001b[0m, in \u001b[0;36mNDFrame.__hash__\u001b[0;34m(self)\u001b[0m\n\u001b[1;32m   <a href='file:///home/fossa/deb/data-engineering-bootcamp/tests/bigquery_test/venv/lib/python3.8/site-packages/pandas/core/generic.py?line=1783'>1784</a>\u001b[0m \u001b[39mdef\u001b[39;00m \u001b[39m__hash__\u001b[39m(\u001b[39mself\u001b[39m) \u001b[39m-\u001b[39m\u001b[39m>\u001b[39m \u001b[39mint\u001b[39m:\n\u001b[0;32m-> <a href='file:///home/fossa/deb/data-engineering-bootcamp/tests/bigquery_test/venv/lib/python3.8/site-packages/pandas/core/generic.py?line=1784'>1785</a>\u001b[0m     \u001b[39mraise\u001b[39;00m \u001b[39mTypeError\u001b[39;00m(\n\u001b[1;32m   <a href='file:///home/fossa/deb/data-engineering-bootcamp/tests/bigquery_test/venv/lib/python3.8/site-packages/pandas/core/generic.py?line=1785'>1786</a>\u001b[0m         \u001b[39mf\u001b[39m\u001b[39m\"\u001b[39m\u001b[39m{\u001b[39;00m\u001b[39mrepr\u001b[39m(\u001b[39mtype\u001b[39m(\u001b[39mself\u001b[39m)\u001b[39m.\u001b[39m\u001b[39m__name__\u001b[39m)\u001b[39m}\u001b[39;00m\u001b[39m objects are mutable, \u001b[39m\u001b[39m\"\u001b[39m\n\u001b[1;32m   <a href='file:///home/fossa/deb/data-engineering-bootcamp/tests/bigquery_test/venv/lib/python3.8/site-packages/pandas/core/generic.py?line=1786'>1787</a>\u001b[0m         \u001b[39mf\u001b[39m\u001b[39m\"\u001b[39m\u001b[39mthus they cannot be hashed\u001b[39m\u001b[39m\"\u001b[39m\n\u001b[1;32m   <a href='file:///home/fossa/deb/data-engineering-bootcamp/tests/bigquery_test/venv/lib/python3.8/site-packages/pandas/core/generic.py?line=1787'>1788</a>\u001b[0m     )\n",
      "\u001b[0;31mTypeError\u001b[0m: 'Series' objects are mutable, thus they cannot be hashed"
     ]
    }
   ],
   "source": [
    "\n",
    "import pandas as pd\n",
    "\n",
    "# import pandas and set pandas read_cvs to a variable\n",
    "ufo_filepath = './data/nuforc_reports.csv'\n",
    "ufo_data = pd.read_csv(ufo_filepath)\n",
    "df = ufo_data\n",
    "# df.head()\n",
    "\n",
    "# # create empty variables so we know what internal variablesneed to define later\n",
    "# col_list = []\n",
    "# col_check = []\n",
    "\n",
    "\n",
    "\n",
    "\"\"\"start functions to clean data\"\"\"\n",
    "\n",
    "\n",
    "\"\"\"if our data doesnt already have one, this is a function to create an index from a later specified column\"\"\"\n",
    "def set_index(self, index = None):\n",
    "    df = self.df\n",
    "    \"\"\"create the index by concatting two columns\"\"\"\n",
    "    # df[index_name] = df[col_list]\n",
    "    # .apply(\n",
    "    # lambda row: \"-\".join(row.values.astype(str)), axis=1)\n",
    "    df = df.set_index(index, inplace=True)\n",
    "    self.df = df\n",
    "\n",
    "def fill_na(df):\n",
    "    \"\"\"check to see if there are any null values and changes them to NaN\"\"\"\n",
    "    df.fillna(value=\"null\", axis=1, inplace=True)\n",
    "\n",
    "\n",
    "\n",
    "def drop_dupes(df, col_check=None):\n",
    "    \"\"\"drop duplicates among the specified col to ensure the data isnt repeated\"\"\"\n",
    "    df.drop_duplicates(subset=[col_check], inplace=True)\n",
    "\n",
    "\n",
    "\n",
    "\"\"\"write the pandas df back to a csv\"\"\"\n",
    "\n",
    "\n",
    "def write_csv(df):\n",
    "    clean_UFO_data = './data/cleaned_UFO_data.csv'\n",
    "    df.to_csv(clean_UFO_data)\n",
    "\n",
    "\n",
    "\"\"\"run function to enact our functions on our ufo dataframe\"\"\"\n",
    "# df = ufo_data\n",
    "# col_check = df.summary\n",
    "\n",
    "# df['date_time'] = pd.to_datetime(df['date_time'], format=\"%Y-%m-%d\")\n",
    "# col_list = [df.date_time]\n",
    "\n",
    "def run(df):\n",
    "    fill_na(df)\n",
    "    drop_dupes(df, ['col_check'])\n",
    "    add_index(df, ['col_list'])\n",
    "    write_csv(df)\n",
    "run(ufo_data)\n",
    "\n",
    "# print(df.head())"
   ]
  }
 ],
 "metadata": {
  "interpreter": {
   "hash": "7e25c0b125afc8ff983a1c5524176becc133df95dfd98566413676ca4ee35163"
  },
  "kernelspec": {
   "display_name": "Python 3.8.10 ('venv': venv)",
   "language": "python",
   "name": "python3"
  },
  "language_info": {
   "codemirror_mode": {
    "name": "ipython",
    "version": 3
   },
   "file_extension": ".py",
   "mimetype": "text/x-python",
   "name": "python",
   "nbconvert_exporter": "python",
   "pygments_lexer": "ipython3",
   "version": "3.8.10"
  },
  "orig_nbformat": 4
 },
 "nbformat": 4,
 "nbformat_minor": 2
}
