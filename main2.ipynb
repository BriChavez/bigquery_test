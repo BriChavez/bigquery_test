{
 "cells": [
  {
   "cell_type": "code",
   "execution_count": 16,
   "metadata": {},
   "outputs": [
    {
     "data": {
      "text/plain": [
       "(88125, 12)"
      ]
     },
     "execution_count": 16,
     "metadata": {},
     "output_type": "execute_result"
    }
   ],
   "source": [
    "import pandas as pd\n",
    "\n",
    "# import pandas and set pandas read_cvs to a variable\n",
    "ufo_data =pd.read_csv('./data/nuforc_reports.csv')\n",
    "# ufo_data.head()\n",
    "df = ufo_data\n",
    "df.shape"
   ]
  },
  {
   "cell_type": "code",
   "execution_count": 17,
   "metadata": {},
   "outputs": [
    {
     "data": {
      "text/plain": [
       "(88125, 12)"
      ]
     },
     "execution_count": 17,
     "metadata": {},
     "output_type": "execute_result"
    }
   ],
   "source": [
    "\"\"\"start functions to clean data\"\"\"\n",
    "def fill_na(df):\n",
    "    \"\"\"check to see if there are any null values and changes them to NaN\"\"\"\n",
    "    df.fillna(value = \"null\", axis = 1, inplace = True)\n",
    "\n",
    "    \n",
    "df.shape"
   ]
  },
  {
   "cell_type": "code",
   "execution_count": 20,
   "metadata": {},
   "outputs": [
    {
     "data": {
      "text/plain": [
       "RangeIndex(start=0, stop=88125, step=1)"
      ]
     },
     "execution_count": 20,
     "metadata": {},
     "output_type": "execute_result"
    }
   ],
   "source": [
    "def drop_dupes(dataframe, col_check = None):\n",
    "    \"\"\"drop duplicates among the summaries to ensure the data isnt repeated\"\"\"\n",
    "    df.drop_duplicates(subset=[col_check], inplace = True)\n",
    "    \n",
    "\n",
    "\n"
   ]
  },
  {
   "cell_type": "code",
   "execution_count": null,
   "metadata": {},
   "outputs": [],
   "source": [
    "# if our data doesnt already have one, this is a function to create an index from a later specified column\n",
    "\"\"\"create the index\"\"\"\n",
    "\n",
    "\n",
    "def add_index(self, col_list, index_name=\"index\"):\n",
    "    df = self.df\n",
    "    \"\"\"create the index by concatting two columns\"\"\"\n",
    "    df[index_name] = df[col_list].apply(\n",
    "        lambda row: \"-\".join(row.values.astype(str)), axis=1)\n",
    "    df.set_index(index_name, inplace=True)\n",
    "    self.df = df\n"
   ]
  },
  {
   "cell_type": "code",
   "execution_count": null,
   "metadata": {},
   "outputs": [],
   "source": [
    "df = pd.DataFrame(\n",
    "    {'name': [\"apple\", \"banana\", \"cherry\"], 'quant': [40, 50, 60]})\n",
    "df.columns = ['fruit', 'quantity']\n",
    "print(df)\n"
   ]
  },
  {
   "cell_type": "code",
   "execution_count": null,
   "metadata": {},
   "outputs": [],
   "source": [
    "from sqlalchemy import create_engine, text, insert, inspect\n",
    "from sqlalchemy import MetaData, Table, Column, Integer, String, Numeric, DateTime\n"
   ]
  },
  {
   "cell_type": "code",
   "execution_count": null,
   "metadata": {},
   "outputs": [],
   "source": [
    "def initdb(self, drop_and_replace=False) -> None:\n",
    "    \"\"\"Function to initialize the database with all the tables\"\"\"\n",
    "    \n",
    "     engine = self.engine\n",
    "      metadata = self.metadata\n",
    "       if drop_and_replace:\n",
    "            logger.info(\"\\tDropping existing tables\")\n",
    "            metadata.drop_all()\n",
    "        # Define all our tables\n",
    "        if not inspect(engine).has_table(\"airports\"):\n",
    "            logger.info(\"Creating airports table\")\n",
    "            airport_table = Table(\"airports\",\n",
    "                                  metadata,\n",
    "                                  Column(\"iata\", String(256),\n",
    "                                         primary_key=True),\n",
    "                                  Column(\"airport\", String(256)),\n",
    "                                  Column(\"city\", String(256)),\n",
    "                                  Column(\"state\", String(256)),\n",
    "                                  Column(\"country\", String(256)),\n",
    "                Column(\"lat\", Numeric),\n",
    "                Column(\"lon\", Numeric),\n",
    "                extend_existing=True,\n",
    "            )\n",
    "        else:\n",
    "            logger.info(\"\\tairports table present\")\n"
   ]
  }
 ],
 "metadata": {
  "interpreter": {
   "hash": "7e25c0b125afc8ff983a1c5524176becc133df95dfd98566413676ca4ee35163"
  },
  "kernelspec": {
   "display_name": "Python 3.8.10 ('venv': venv)",
   "language": "python",
   "name": "python3"
  },
  "language_info": {
   "codemirror_mode": {
    "name": "ipython",
    "version": 3
   },
   "file_extension": ".py",
   "mimetype": "text/x-python",
   "name": "python",
   "nbconvert_exporter": "python",
   "pygments_lexer": "ipython3",
   "version": "3.8.10"
  },
  "orig_nbformat": 4
 },
 "nbformat": 4,
 "nbformat_minor": 2
}
